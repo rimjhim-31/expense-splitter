{
 "cells": [
  {
   "cell_type": "code",
   "execution_count": 13,
   "id": "d4755bf2-e57f-41dc-bb5a-4ed4cd5a6b51",
   "metadata": {},
   "outputs": [
    {
     "name": "stdout",
     "output_type": "stream",
     "text": [
      "\n",
      "1. Add Expense\n",
      "2. Show Expense Breakdown\n",
      "3. Show Balances\n",
      "4. Exit\n"
     ]
    },
    {
     "name": "stdin",
     "output_type": "stream",
     "text": [
      "Choose an option:  1\n",
      "Enter the total expense amount:  4000\n",
      "Enter the names of contributors (comma separated):  rimjhim,mahi,shiv,dev\n",
      "Enter the amount paid by rimjhim:  1400\n",
      "Enter the amount paid by mahi:  1200\n",
      "Enter the amount paid by shiv:  800\n",
      "Enter the amount paid by dev:  600\n"
     ]
    },
    {
     "name": "stdout",
     "output_type": "stream",
     "text": [
      "\n",
      "1. Add Expense\n",
      "2. Show Expense Breakdown\n",
      "3. Show Balances\n",
      "4. Exit\n"
     ]
    },
    {
     "name": "stdin",
     "output_type": "stream",
     "text": [
      "Choose an option:  2\n"
     ]
    },
    {
     "name": "stdout",
     "output_type": "stream",
     "text": [
      "\n",
      "Expense Breakdown:\n",
      "Expense Amount: 4000.00 | Contributors: rimjhim, mahi, shiv, dev\n",
      "  rimjhim contributed: 1400.00\n",
      "  mahi contributed: 1200.00\n",
      "  shiv contributed: 800.00\n",
      "  dev contributed: 600.00\n",
      "\n",
      "1. Add Expense\n",
      "2. Show Expense Breakdown\n",
      "3. Show Balances\n",
      "4. Exit\n"
     ]
    },
    {
     "name": "stdin",
     "output_type": "stream",
     "text": [
      "Choose an option:  3\n"
     ]
    },
    {
     "name": "stdout",
     "output_type": "stream",
     "text": [
      "\n",
      "Balances:\n",
      "rimjhim owes: 400.00\n",
      "mahi owes: 200.00\n",
      "shiv is owed: 200.00\n",
      "dev is owed: 400.00\n",
      "\n",
      "1. Add Expense\n",
      "2. Show Expense Breakdown\n",
      "3. Show Balances\n",
      "4. Exit\n"
     ]
    },
    {
     "name": "stdin",
     "output_type": "stream",
     "text": [
      "Choose an option:  4\n"
     ]
    }
   ],
   "source": [
    "class ExpenseSplitter:\n",
    "    def __init__(self):\n",
    "        self.expenses = []\n",
    "        self.people = {}\n",
    "\n",
    "    def person(self, name):\n",
    "        if name not in self.people:\n",
    "            self.people[name] = 0.0\n",
    "\n",
    "    def expense(self, amount, contributors):\n",
    "        expense_details = {}\n",
    "        total_contributed = 0.0\n",
    "        \n",
    "        for persons in contributors:\n",
    "            contribution = float(input(f\"Enter the amount paid by {persons}: \"))\n",
    "            expense_details[persons] = contribution\n",
    "            total_contributed += contribution\n",
    "        \n",
    "        if total_contributed == amount:\n",
    "            for persons in contributors:\n",
    "                self.person(persons)\n",
    "                self.people[persons] += expense_details[persons]\n",
    "            self.expenses.append((amount, contributors, expense_details))\n",
    "\n",
    "    def display_expenses(self):\n",
    "        print(\"\\nExpense Breakdown:\")\n",
    "        for amount, contributors, details in self.expenses:\n",
    "            print(f\"Expense Amount: {amount:.2f} | Contributors: {', '.join(contributors)}\")\n",
    "            for persons, share in details.items():\n",
    "                print(f\"  {persons} contributed: {share:.2f}\")\n",
    "\n",
    "    def display_balances(self):\n",
    "        print(\"\\nBalances:\")\n",
    "        total_expense = sum(amount for amount,_,_ in self.expenses)\n",
    "        num_people = len(self.people)\n",
    "        average_expense = total_expense / num_people if num_people > 0 else 0\n",
    "        \n",
    "        for persons, amount in self.people.items():\n",
    "            balance = average_expense - amount\n",
    "            if balance > 0:\n",
    "                print(f\"{persons} is owed: {balance:.2f}\")\n",
    "            elif balance < 0:\n",
    "                print(f\"{persons} owes: {-balance:.2f}\")\n",
    "            else:\n",
    "                print(f\"{persons} is settled.\")\n",
    "\n",
    "def main():\n",
    "    splitter = ExpenseSplitter()\n",
    "    \n",
    "    while True:\n",
    "        print(\"\\n1. Add Expense\")\n",
    "        print(\"2. Show Expense Breakdown\")\n",
    "        print(\"3. Show Balances\")\n",
    "        print(\"4. Exit\")\n",
    "        choice = input(\"Choose an option: \")\n",
    "\n",
    "        if choice == '1':\n",
    "            amount = float(input(\"Enter the total expense amount: \"))\n",
    "            contributors = input(\"Enter the names of contributors (comma separated): \").split(',')\n",
    "            contributors = [name.strip() for name in contributors]\n",
    "            splitter.expense(amount, contributors)\n",
    "        elif choice == '2':\n",
    "            splitter.display_expenses()\n",
    "        elif choice == '3':\n",
    "            splitter.display_balances()\n",
    "        elif choice == '4':\n",
    "            break\n",
    "        else:\n",
    "            print(\"Invalid choice. Please try again.\")\n",
    "\n",
    "if __name__ == \"__main__\":\n",
    "    main()"
   ]
  },
  {
   "cell_type": "code",
   "execution_count": null,
   "id": "16325519-4708-4336-8004-b2cb243e9a09",
   "metadata": {},
   "outputs": [],
   "source": []
  }
 ],
 "metadata": {
  "kernelspec": {
   "display_name": "Python 3 (ipykernel)",
   "language": "python",
   "name": "python3"
  },
  "language_info": {
   "codemirror_mode": {
    "name": "ipython",
    "version": 3
   },
   "file_extension": ".py",
   "mimetype": "text/x-python",
   "name": "python",
   "nbconvert_exporter": "python",
   "pygments_lexer": "ipython3",
   "version": "3.12.7"
  }
 },
 "nbformat": 4,
 "nbformat_minor": 5
}
